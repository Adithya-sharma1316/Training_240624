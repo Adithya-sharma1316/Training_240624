{
 "cells": [
  {
   "cell_type": "markdown",
   "metadata": {},
   "source": [
    "Why OOPS?\n",
    "    -Standardization\n",
    "    -Solve complex problems\n",
    "    -4 pillars -Encapsulation - wrapping the data into simple entity\n",
    "               -Inheritence - Reusebility/Acquiring the property\n",
    "                        -single level\n",
    "                        -multi level\n",
    "                        -multiple\n",
    "                        -Hierarchial \n",
    "                        -Hybrid\n",
    "                -Polymorphism\n",
    "                -Abstraction\n",
    "    -Data hiding using access specifier"
   ]
  },
  {
   "cell_type": "markdown",
   "metadata": {},
   "source": [
    "Class - Variables\n",
    "            -class variables\n",
    "            -Instance variables\n",
    "      - Methods\n",
    "            -user defined\n",
    "            -special method  "
   ]
  },
  {
   "cell_type": "code",
   "execution_count": 7,
   "metadata": {
    "tags": [
     "Python"
    ]
   },
   "outputs": [
    {
     "name": "stdout",
     "output_type": "stream",
     "text": [
      "10\n",
      "100\n",
      "10\n"
     ]
    }
   ],
   "source": [
    "class myclass:\n",
    "    x=10\n",
    "    y=20\n",
    "\n",
    "    def __init__(self) -> None:\n",
    "        self.a=100\n",
    "        self.b=233\n",
    "\n",
    "print(myclass.x)\n",
    "\n",
    "m1=myclass()\n",
    "print(m1.a)\n",
    "print(m1.x)#accessing class variables with obj name\n"
   ]
  },
  {
   "cell_type": "code",
   "execution_count": 8,
   "metadata": {},
   "outputs": [
    {
     "name": "stdout",
     "output_type": "stream",
     "text": [
      "Name Saadhu\n"
     ]
    },
    {
     "data": {
      "text/plain": [
       "<bound method movie.info of <__main__.movie object at 0x0000026A94B7B990>>"
      ]
     },
     "execution_count": 8,
     "metadata": {},
     "output_type": "execute_result"
    }
   ],
   "source": [
    "class movie:\n",
    "    def __init__(self) -> None:\n",
    "        self.name=\"hehe\"\n",
    "        self.type=\"action\"\n",
    "        self.duration=\"180 min\"\n",
    "        self.cast=\"Saadhu\"\n",
    "    \n",
    "    def info(self):\n",
    "        print(\"Name\",self.cast)\n",
    "\n",
    "m1=movie()\n",
    "m1.info()\n",
    "m2=movie()\n",
    "m2.info"
   ]
  },
  {
   "cell_type": "code",
   "execution_count": 9,
   "metadata": {},
   "outputs": [
    {
     "name": "stdout",
     "output_type": "stream",
     "text": [
      "Name dd\n"
     ]
    }
   ],
   "source": [
    "class movie:\n",
    "    def __init__(self,name,type,duration,cast):\n",
    "        self.name=name\n",
    "        self.type=type\n",
    "        self.duration=duration\n",
    "        self.cast=cast\n",
    "    \n",
    "    def info(self):\n",
    "        print(\"Name\",self.cast)\n",
    "\n",
    "m1=movie('mm','f','ee','dd')\n",
    "m1.info()\n"
   ]
  },
  {
   "cell_type": "code",
   "execution_count": 10,
   "metadata": {},
   "outputs": [
    {
     "name": "stdout",
     "output_type": "stream",
     "text": [
      "I am m\n"
     ]
    }
   ],
   "source": [
    "class one:\n",
    "    a=10\n",
    "    b=20\n",
    "    def __init__(self) -> int:\n",
    "        self.x=100\n",
    "        self.y=200\n",
    "    def m(self):\n",
    "        print(\"I am m\")\n",
    "\n",
    "m1=one()\n",
    "m1.m()"
   ]
  },
  {
   "cell_type": "code",
   "execution_count": 11,
   "metadata": {},
   "outputs": [
    {
     "name": "stdout",
     "output_type": "stream",
     "text": [
      "Bank name=cici\n",
      "Branch=ctr \n",
      "ifsc= cici10101 \n",
      "Acc num= 12121 \n",
      "NAme=sadhu\n",
      "Bal ance= 100000\n"
     ]
    }
   ],
   "source": [
    "#example for encapulastion\n",
    "class acc:\n",
    "    bankName=\"cici\"\n",
    "    branch=\"ctr\"\n",
    "    ifsc=\"cici10101\"\n",
    "\n",
    "    def __init__(self,accnum,accname,bal) -> None:\n",
    "        self.accnum=accnum\n",
    "        self.accname=accname\n",
    "        self.bal=bal\n",
    "        \n",
    "    def info(self):\n",
    "        print(\"Bank name=\"+self.bankName+\"\\nBranch=\"+self.branch,\"\\nifsc=\",self.ifsc,\"\\nAcc num=\",self.accnum,\"\\nNAme=\"+self.accname+\"\\nBal ance=\",self.bal)\n",
    "\n",
    "a1=acc(12121,'sadhu',100000)\n",
    "a1.info()"
   ]
  },
  {
   "cell_type": "code",
   "execution_count": 12,
   "metadata": {},
   "outputs": [
    {
     "name": "stdout",
     "output_type": "stream",
     "text": [
      "hehe\n"
     ]
    },
    {
     "data": {
      "text/plain": [
       "<__main__.sample at 0x26a9536cf90>"
      ]
     },
     "execution_count": 12,
     "metadata": {},
     "output_type": "execute_result"
    }
   ],
   "source": [
    "class sample:\n",
    "    def __init__(self) -> None:\n",
    "        print(\"hehe\")\n",
    "\n",
    "sample()"
   ]
  },
  {
   "cell_type": "markdown",
   "metadata": {},
   "source": [
    "Inheritance \n",
    "    -Single \n",
    "    -multilevel\n",
    "    -multiple\n",
    "    -hierarchial\n",
    "    -hybrid"
   ]
  },
  {
   "cell_type": "code",
   "execution_count": 13,
   "metadata": {},
   "outputs": [
    {
     "name": "stdout",
     "output_type": "stream",
     "text": [
      "100 \n",
      " 5 \n",
      "\n"
     ]
    }
   ],
   "source": [
    "#single\n",
    "class A:\n",
    "    def __init__(self) -> None:\n",
    "        self.a=100\n",
    "        self.b=200\n",
    "    def m(self):\n",
    "        print(\"class a\")\n",
    "\n",
    "class b(A):\n",
    "    def __init__(self):\n",
    "        super().__init__()\n",
    "        self.x=5\n",
    "        self.y=9\n",
    "    def m1(self):\n",
    "        print(\"class b\")\n",
    "\n",
    "v=b()\n",
    "print(v.a,\"\\n\",v.x,\"\\n\")\n"
   ]
  },
  {
   "cell_type": "code",
   "execution_count": 14,
   "metadata": {},
   "outputs": [
    {
     "name": "stdout",
     "output_type": "stream",
     "text": [
      "Attrib = {'a': 100, 'b': 200, 'x': 5, 'y': 9, 'c': 100, 'd': 200}\n"
     ]
    }
   ],
   "source": [
    "#multi level\n",
    "#    one\n",
    "#     ^\n",
    "#     |\n",
    "#     two\n",
    "#     ^\n",
    "#     |\n",
    "#    three\n",
    "\n",
    "class one:\n",
    "    def __init__(self):\n",
    "        self.a=100\n",
    "        self.b=200\n",
    "    def m(self):\n",
    "        print(\"class a\")\n",
    "\n",
    "class two(one):\n",
    "    def __init__(self):\n",
    "        super().__init__()\n",
    "        self.x=5\n",
    "        self.y=9\n",
    "    def m1(self):\n",
    "        print(\"class b\")\n",
    "\n",
    "class three(two):\n",
    "    def __init__(self):\n",
    "        super().__init__()\n",
    "        self.c=100\n",
    "        self.d=200\n",
    "    def m(self):\n",
    "        print(\"class a\")\n",
    "\n",
    "m=three()\n",
    "print(\"Attrib =\",m.__dict__)"
   ]
  },
  {
   "cell_type": "code",
   "execution_count": 15,
   "metadata": {},
   "outputs": [
    {
     "name": "stdout",
     "output_type": "stream",
     "text": [
      "Attrib = {'a': 100, 'b': 200, 'x': 5, 'y': 9, 'c': 100, 'd': 200}\n"
     ]
    }
   ],
   "source": [
    "#multiple\n",
    "#     one     two\n",
    "#     ^        ^\n",
    "#     |        |\n",
    "#        three\n",
    "class one:\n",
    "    def __init__(self):\n",
    "        self.a=100\n",
    "        self.b=200\n",
    "    def m(self):\n",
    "        print(\"class a\")\n",
    "\n",
    "class two:\n",
    "    def __init__(self):\n",
    "        super().__init__()\n",
    "        self.x=5\n",
    "        self.y=9\n",
    "    def m1(self):\n",
    "        print(\"class b\")\n",
    "\n",
    "class three(one,two):\n",
    "    def __init__(self):\n",
    "        one.__init__(self)\n",
    "        two.__init__(self)\n",
    "        self.c=100\n",
    "        self.d=200\n",
    "    def m(self):\n",
    "        print(\"class a\")\n",
    "\n",
    "m=three()\n",
    "print(\"Attrib =\",m.__dict__) "
   ]
  },
  {
   "cell_type": "code",
   "execution_count": 16,
   "metadata": {},
   "outputs": [
    {
     "name": "stdout",
     "output_type": "stream",
     "text": [
      "{'Name': '', 'Age': '', 'Gender': '', 'Usn': '101', 'Marks': '', 'Grade': ''}\n"
     ]
    }
   ],
   "source": [
    "#hierarchial \n",
    "#         one\n",
    "#     ^        ^\n",
    "#     |        |\n",
    "#     two     three\n",
    "\n",
    "\n",
    "class person:\n",
    "    def __init__(self,name,age,gender) -> None:\n",
    "        self.Name=name\n",
    "        self.Age=age\n",
    "        self.Gender=gender\n",
    "    \n",
    "class student(person):\n",
    "    def __init__(self,usn,marks,grade,name,age,gender):\n",
    "        super().__init__(name,age,gender)\n",
    "        self.Usn=usn\n",
    "        self.Marks=marks\n",
    "        self.Grade=grade\n",
    "\n",
    "class employee(person):\n",
    "    def __init__(self,empid,des,salary,name,age,gender):\n",
    "        super().__init__(name,age,gender)\n",
    "        self.Empid=empid\n",
    "        self.Des=des\n",
    "        self.Salary=salary\n",
    "\n",
    "s=student('101','','','','','')\n",
    "e=employee('111','','','','','')\n",
    "\n",
    "print(s.__dict__)\n",
    "\n"
   ]
  },
  {
   "cell_type": "code",
   "execution_count": 1,
   "metadata": {},
   "outputs": [],
   "source": [
    "# # create a class simpledictionary, if the obj is created, you need to create a empty dict automatically\n",
    "# # This class should contain methods =additems,updateitems,removeitems and displayitems \n",
    "# # should not use in-built method of dictionary\n",
    "\n",
    "# class simpledict:\n",
    "#     def __init__(self):\n",
    "#         self.dict={}\n",
    "    \n",
    "#     def additems(self,key,item):\n",
    "#         if key not in self.dict.key():\n",
    "#             self.dict[key]=item\n",
    "    \n",
    "#     def updateitems(self,key,item):\n",
    "#         if key in self.dict.key():\n",
    "#             self.dict[key]=item\n",
    "        \n",
    "#     def removeitems(self,key,item):\n",
    "#         if key in self.dict.key():\n",
    "#             del self.dict[key]\n",
    "\n",
    "#     def displayitems(self):\n",
    "#         for key,item in self.dict.items():\n",
    "#             print(key,\"-\",item)\n",
    "\n",
    "# m=simpledict()\n",
    "# m.additems(1,\"item 1\")\n",
    "# m.additems(2,'item 2')\n",
    "# m.displayitems()\n",
    "        \n",
    "\n",
    "\n",
    "\n"
   ]
  },
  {
   "cell_type": "code",
   "execution_count": null,
   "metadata": {},
   "outputs": [],
   "source": [
    "#hybrid\n",
    "#         one\n",
    "#     ^        ^\n",
    "#     |        |\n",
    "#     two     three\n",
    "#     ^        ^\n",
    "#     |        |\n",
    "#        four"
   ]
  },
  {
   "cell_type": "code",
   "execution_count": null,
   "metadata": {},
   "outputs": [],
   "source": [
    "#Create a class audiodevice . It should contain variables - devname,version\n",
    "#Audiodevice class should inherite the property from device class and device class should contain variables like address,name , Methods - On , off\n",
    "#Create a two classes - microphone, speakers, These classes should inherite properties from audiodevice class\n",
    "#Microphone should contain variables - type. methods -start record, stop record\n",
    "#Speaker class should contain variables - spktype,spkname and current_volume, Methods like inc volume ,dec volume and current vol"
   ]
  },
  {
   "cell_type": "code",
   "execution_count": null,
   "metadata": {},
   "outputs": [
    {
     "name": "stdout",
     "output_type": "stream",
     "text": [
      "dog\n",
      "Bow\n",
      "<function animal at 0x0000026A94686CA0>\n",
      "cat\n",
      "meow\n",
      "<function animal at 0x0000026A94686CA0>\n"
     ]
    }
   ],
   "source": [
    "#Polymorphism(types : compile time and runtime)\n",
    "class dog:\n",
    "    def info(self):\n",
    "        print(\"dog\")\n",
    "    \n",
    "    def noise(self):\n",
    "        print(\"Bow\")\n",
    "\n",
    "class cat:\n",
    "    def info(self):\n",
    "        print(\"cat\")\n",
    "    \n",
    "    def noise(self):\n",
    "        print(\"meow\")\n",
    "\n",
    "def animal(obj):\n",
    "    obj.info()\n",
    "    obj.noise()\n",
    "\n",
    "d=dog()\n",
    "c=cat()\n",
    "\n",
    "animal(d)\n",
    "print(animal)\n",
    "animal(c)\n",
    "print(animal)"
   ]
  },
  {
   "cell_type": "markdown",
   "metadata": {},
   "source": [
    "Method overloading - Need to have same method name inside a class with different num of parameters"
   ]
  },
  {
   "cell_type": "code",
   "execution_count": null,
   "metadata": {},
   "outputs": [
    {
     "ename": "TypeError",
     "evalue": "test.method1() missing 2 required positional arguments: 'b' and 'c'",
     "output_type": "error",
     "traceback": [
      "\u001b[1;31m---------------------------------------------------------------------------\u001b[0m",
      "\u001b[1;31mTypeError\u001b[0m                                 Traceback (most recent call last)",
      "Cell \u001b[1;32mIn[6], line 10\u001b[0m\n\u001b[0;32m      7\u001b[0m         \u001b[38;5;28mprint\u001b[39m(a,b,c)\n\u001b[0;32m      9\u001b[0m s1\u001b[38;5;241m=\u001b[39mtest()\n\u001b[1;32m---> 10\u001b[0m s1\u001b[38;5;241m.\u001b[39mmethod1(\u001b[38;5;241m1\u001b[39m)\n",
      "\u001b[1;31mTypeError\u001b[0m: test.method1() missing 2 required positional arguments: 'b' and 'c'"
     ]
    }
   ],
   "source": [
    "class test:\n",
    "    def method1(self,a):\n",
    "        print(a)\n",
    "    def method1(self,a,b):\n",
    "        print(a,b)\n",
    "    def method1(self,a,b,c):\n",
    "        print(a,b,c)\n",
    "\n",
    "s1=test()\n",
    "s1.method1(1)\n",
    "\n",
    "#new method overwrites old(interpreter)..hence error occurs\n",
    "#method overloading is not possible in python because it is an interpreter language, if all the method names are same python will execute last method because akk the methods is overloaded to the same place."
   ]
  },
  {
   "cell_type": "code",
   "execution_count": null,
   "metadata": {},
   "outputs": [],
   "source": [
    "#method overriding --- is-a relationship\n",
    "#                  --- method name should be same\n",
    "class shape:\n",
    "    def __init__(self) -> None:\n",
    "        print(\"init\")\n",
    "    def area():\n",
    "        pass \n",
    "\n",
    "class circle(shape):\n",
    "    def __init__(self,p,r) -> None:\n",
    "        self.pi=p\n",
    "        self.ra=r\n",
    "    def area(self):\n",
    "        return self.pi*(ra*ra) \n",
    "    \n",
    "c=circle(3.14,4)\n",
    "print(c.area)"
   ]
  },
  {
   "cell_type": "markdown",
   "metadata": {},
   "source": [
    "Data Abstraction - hiding of implementation and display or giving access to functionality to users."
   ]
  },
  {
   "cell_type": "code",
   "execution_count": null,
   "metadata": {},
   "outputs": [],
   "source": [
    "# from abc import ABC\n",
    "\n",
    "# class myclass(ABC):\n",
    "#     @abstractmethod\n",
    "#     def mymethod(self):\n",
    "#         pass\n",
    "\n",
    "# class subclass(myclass):\n",
    "#     def mymethod2(self):\n",
    "#         pass\n",
    "#     def common(self):\n",
    "#         print(\"commmon\")\n",
    "# Abstract class is a class which is inheriting the properties from ABC class and contains atleast one abstract methods\n",
    "# Abstract methods is a method which have incomplete functionalities in abstract class and decorated with @abstractmethod\n",
    "#Abstract class can't be instancitiated so obj for abstract class cannot be created\n",
    "# number of abs method declared in abstract class , need to give the implementation for all abs method in subclass, if we miss one implementation python throws an error"
   ]
  }
 ],
 "metadata": {
  "kernelspec": {
   "display_name": "base",
   "language": "python",
   "name": "python3"
  },
  "language_info": {
   "codemirror_mode": {
    "name": "ipython",
    "version": 3
   },
   "file_extension": ".py",
   "mimetype": "text/x-python",
   "name": "python",
   "nbconvert_exporter": "python",
   "pygments_lexer": "ipython3",
   "version": "3.11.7"
  }
 },
 "nbformat": 4,
 "nbformat_minor": 2
}
