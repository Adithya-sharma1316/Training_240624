{
 "cells": [
  {
   "cell_type": "markdown",
   "metadata": {},
   "source": [
    "Database management system"
   ]
  },
  {
   "cell_type": "markdown",
   "metadata": {},
   "source": [
    "    DBMS - 1960 - Charls Bachman (first database)\n",
    "    1970 - E F codd - relation model\n",
    "    1986 - IBM handed it to ANSI\n",
    "    First name of sql - R system\n",
    "    next name - SEQUEL(simple english query language) -> SQL\n",
    "    "
   ]
  },
  {
   "cell_type": "markdown",
   "metadata": {},
   "source": [
    "    Statements\n",
    "        -DDL\n",
    "            -create\n",
    "            -drop\n",
    "            -alter\n",
    "            -truncate\n",
    "            -rename\n",
    "        -DML\n",
    "            -insert\n",
    "            -update\n",
    "            -delete\n",
    "        -TCL\n",
    "            -commit\n",
    "            rollback\n",
    "            -savepoint\n",
    "        -DCL\n",
    "            -grant\n",
    "            -revoke\n",
    "        -DQL\n",
    "            -select\n",
    "            -projection\n",
    "            -join"
   ]
  },
  {
   "cell_type": "markdown",
   "metadata": {},
   "source": [
    "    Data types\n",
    "        -int\n",
    "        -char\n",
    "        -varchar\n",
    "        -date\n",
    "        -large object \n",
    "            -CLOB\n",
    "            -BLOB"
   ]
  },
  {
   "cell_type": "markdown",
   "metadata": {},
   "source": [
    "char size max= 2000"
   ]
  },
  {
   "cell_type": "markdown",
   "metadata": {},
   "source": [
    "    Constraints \n",
    "        -Unique\n",
    "        -Not Null\n",
    "        -check(domain)\n",
    "        -Primary key\n",
    "        -Foriegn key( ref integrity)\n"
   ]
  },
  {
   "cell_type": "markdown",
   "metadata": {},
   "source": [
    "    Operators\n",
    "        -Arithmetic\n",
    "        -Relational\n",
    "        -Logical\n",
    "        -Concatination\n",
    "        -Special op (IN, NOT IN, BETWEEN, NOT BETWEEN, LIKE, IS)\n",
    "        -Subquery op (ANY, EXISTS)"
   ]
  },
  {
   "cell_type": "markdown",
   "metadata": {},
   "source": [
    "    droped table can be retrieved \n",
    "    use->Flashback table table_name\n",
    "    for permanent deletion ->Purge table table_name"
   ]
  },
  {
   "cell_type": "markdown",
   "metadata": {},
   "source": [
    "    To rename column name\n",
    "    ->Alter table table_name\n",
    "    ->Rename column old_name TO new_name"
   ]
  },
  {
   "cell_type": "markdown",
   "metadata": {},
   "source": [
    "    To change datatype\n",
    "    ->Alter table table_name\n",
    "    ->modify column_name varchar(size)\n",
    "\n",
    "    size should be greater than previously assigned value"
   ]
  },
  {
   "cell_type": "markdown",
   "metadata": {},
   "source": [
    "##     Assignment\n",
    "        1.how to insert huge amt of data?\n",
    "        2.nvl?"
   ]
  },
  {
   "cell_type": "markdown",
   "metadata": {},
   "source": [
    "DDL - autocommit\n",
    "\n",
    "DML - no auto commit\n",
    "1.Insert\n",
    "2.Delete\n",
    "........"
   ]
  },
  {
   "cell_type": "markdown",
   "metadata": {},
   "source": [
    "grant and revoke\n"
   ]
  },
  {
   "cell_type": "markdown",
   "metadata": {},
   "source": [
    "**For indexing**\n",
    "->Create index index_name on table_name (col_name)"
   ]
  },
  {
   "cell_type": "markdown",
   "metadata": {},
   "source": [
    "## Join op\n",
    "    -cross\n",
    "    -inner/equi\n",
    "    -natural\n",
    "    -outer\n",
    "        -left\n",
    "        -right\n",
    "        -full\n",
    "    -self"
   ]
  },
  {
   "cell_type": "markdown",
   "metadata": {},
   "source": [
    "    Cross join/cartesian join\n",
    "        \n",
    "    Inner join \n",
    "        select * colname from t1 innerjoin t2"
   ]
  },
  {
   "cell_type": "markdown",
   "metadata": {},
   "source": [
    "    Natural join"
   ]
  },
  {
   "cell_type": "markdown",
   "metadata": {},
   "source": [
    "Outer join"
   ]
  },
  {
   "cell_type": "markdown",
   "metadata": {},
   "source": [
    "Max subquery = 255"
   ]
  },
  {
   "cell_type": "markdown",
   "metadata": {},
   "source": [
    "Subquery"
   ]
  },
  {
   "cell_type": "markdown",
   "metadata": {},
   "source": [
    "    select e1.sal\n",
    "    from emp e1\n",
    "    where(select count(distinct e2.sal)from emp e2 where e1.sal <=e2.sal> in 1); #here 1 displayes 1st max sal..(1,2,3 or any num can be given)"
   ]
  },
  {
   "cell_type": "markdown",
   "metadata": {},
   "source": [
    "## Pseudo Column\n",
    "    1.Row id\n",
    "    2.Row num"
   ]
  },
  {
   "cell_type": "markdown",
   "metadata": {},
   "source": [
    "select ename from (select rownum, slno,empno from emp) \n",
    "where slno=(1,2,4);  #displays 1st, 2nd and 4th entry"
   ]
  },
  {
   "cell_type": "markdown",
   "metadata": {},
   "source": [
    "<> means not equal"
   ]
  },
  {
   "cell_type": "markdown",
   "metadata": {},
   "source": []
  }
 ],
 "metadata": {
  "language_info": {
   "name": "python"
  }
 },
 "nbformat": 4,
 "nbformat_minor": 2
}
